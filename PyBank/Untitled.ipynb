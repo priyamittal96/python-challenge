{
 "cells": [
  {
   "cell_type": "code",
   "execution_count": 6,
   "metadata": {},
   "outputs": [
    {
     "name": "stdout",
     "output_type": "stream",
     "text": [
      "86\n"
     ]
    }
   ],
   "source": [
    "import os\n",
    "import csv\n",
    "\n",
    "month = []\n",
    "profits = []\n",
    "losses = []\n",
    "\n",
    "net_total = 0\n",
    "months_total = 0\n",
    "\n",
    "bank_csv = os.path.join(\".\",\"Resources\",\"budget_data.csv\")\n",
    "with open(bank_csv) as bank_file:\n",
    "    csvreader = csv.reader(bank_file, delimiter = ',')\n",
    "    csv_reader = next(csvreader)                   \n",
    "    for row in csvreader:\n",
    "        months_total += 1\n",
    "print(months_total)                           \n",
    "                \n",
    "        \n",
    "    \n",
    "    \n",
    "\n",
    "\n",
    "\n",
    "\n",
    "\n",
    "\n",
    "# print(\"Election Results\")\n",
    "# print(\"-------------------\")\n",
    "# print(f\"Total Votes: {total votes}\")\n",
    "\n",
    "# print(\"-------------------\")\n",
    "# print(f\"Winner: {}\")\n",
    "# print(\"-------------------\")"
   ]
  },
  {
   "cell_type": "code",
   "execution_count": null,
   "metadata": {},
   "outputs": [],
   "source": []
  }
 ],
 "metadata": {
  "kernelspec": {
   "display_name": "Python 3",
   "language": "python",
   "name": "python3"
  },
  "language_info": {
   "codemirror_mode": {
    "name": "ipython",
    "version": 3
   },
   "file_extension": ".py",
   "mimetype": "text/x-python",
   "name": "python",
   "nbconvert_exporter": "python",
   "pygments_lexer": "ipython3",
   "version": "3.6.4"
  }
 },
 "nbformat": 4,
 "nbformat_minor": 2
}
