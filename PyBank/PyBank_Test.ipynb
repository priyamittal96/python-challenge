{
 "cells": [
  {
   "cell_type": "code",
   "execution_count": 10,
   "metadata": {},
   "outputs": [
    {
     "name": "stdout",
     "output_type": "stream",
     "text": [
      "Financial Analysis\n",
      "------------------------------\n",
      "Total Months: 86\n",
      "Total: $38382578\n",
      "Average Change: $-2315.12\n",
      "Greated Increase in Profits: Feb-2012 $1926159\n",
      "Greatest Decrease in Profits: Sep-2013 $-2196167\n"
     ]
    }
   ],
   "source": [
    "import os\n",
    "import csv\n",
    "\n",
    "profits_losses = []\n",
    "change_values = []\n",
    "months = []\n",
    "\n",
    "net_total = 0\n",
    "months_total = 0\n",
    "next_amount = 0\n",
    "\n",
    "bank_csv = os.path.join(\".\",\"Resources\",\"budget_data.csv\")\n",
    "with open(bank_csv) as bank_file:\n",
    "    csvreader = csv.reader(bank_file, delimiter = ',')\n",
    "    csv_reader = next(csvreader)                   \n",
    "    for row in csvreader:\n",
    "        months_total += 1\n",
    "        net_total += int(row[1])\n",
    "        profits_losses.append(row[1])\n",
    "        change_values = [int(profits_losses[i + 1]) - int(profits_losses[i]) for i in range(len(profits_losses)-1)]    \n",
    "        change_total = sum(change_values)\n",
    "        months.append(row[0])\n",
    "        months_indexed = months[:0] + months[0+1:]\n",
    "        change_tracking = {change_values[i]: months_indexed[i]  for i in range(len(months_indexed))}\n",
    "\n",
    "        \n",
    "average_change = change_total/len(change_values)    \n",
    "\n",
    "    \n",
    "        \n",
    "print(\"Financial Analysis\") \n",
    "print(\"------------------------------\")\n",
    "print(f\"Total Months: {months_total}\")  \n",
    "print(f\"Total: ${net_total}\")\n",
    "print(f\"Average Change: ${round(average_change,2)}\")\n",
    "print(f\"Greated Increase in Profits: {(change_tracking[max(change_tracking)])} ${max(change_values)}\")\n",
    "print(f\"Greatest Decrease in Profits: {(change_tracking[min(change_tracking)])} ${min(change_values)}\")\n",
    "\n",
    "\n"
   ]
  },
  {
   "cell_type": "code",
   "execution_count": null,
   "metadata": {},
   "outputs": [],
   "source": []
  },
  {
   "cell_type": "code",
   "execution_count": null,
   "metadata": {},
   "outputs": [],
   "source": []
  }
 ],
 "metadata": {
  "kernelspec": {
   "display_name": "Python 3",
   "language": "python",
   "name": "python3"
  },
  "language_info": {
   "codemirror_mode": {
    "name": "ipython",
    "version": 3
   },
   "file_extension": ".py",
   "mimetype": "text/x-python",
   "name": "python",
   "nbconvert_exporter": "python",
   "pygments_lexer": "ipython3",
   "version": "3.6.4"
  }
 },
 "nbformat": 4,
 "nbformat_minor": 2
}
