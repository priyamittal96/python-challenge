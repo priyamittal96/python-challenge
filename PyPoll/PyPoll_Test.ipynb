{
 "cells": [
  {
   "cell_type": "code",
   "execution_count": null,
   "metadata": {},
   "outputs": [],
   "source": [
    "import os\n",
    "import csv\n",
    "\n",
    "people =[]\n",
    "candidates = []\n",
    "percentage = []\n",
    "winner = []\n",
    "\n",
    "count = 0\n",
    "\n",
    "poll_csv = os.path.join(\".\",\"Resources\",\"election_data.csv\")\n",
    "with open(poll_csv) as poll_file:\n",
    "    csvreader = csv.reader(poll_file, delimiter = ',')\n",
    "    csv_reader = next(csvreader)\n",
    "    for row in csvreader:\n",
    "        candidates.append(row[2])\n",
    "        if row[2] not in people:\n",
    "            people.append(row[2])\n",
    "        people_count = [candidates.count(ind) for ind in set(candidates)]\n",
    "        \n",
    "print(people)\n",
    "print(people_count)\n",
    "            \n",
    "print(\"Election Results\")\n",
    "print(\"-------------------\")\n",
    "print(f\"Total Votes: {len(candidates)}\")\n",
    "\n",
    "print(\"-------------------\")\n",
    "# print(f\"Winner: {}\")\n",
    "print(\"-------------------\")"
   ]
  },
  {
   "cell_type": "code",
   "execution_count": null,
   "metadata": {},
   "outputs": [],
   "source": [
    "import os\n",
    "import csv\n",
    "\n",
    "profits_losses = []\n",
    "change_values = []\n",
    "months = []\n",
    "change_tracking =[]\n",
    "\n",
    "net_total = 0\n",
    "months_total = 0\n",
    "next_amount = 0\n",
    "\n",
    "bank_csv = os.path.join(\".\",\"Resources\",\"budget_data.csv\")\n",
    "with open(bank_csv) as bank_file:\n",
    "    csvreader = csv.reader(bank_file, delimiter = ',')\n",
    "    csv_reader = next(csvreader)                   \n",
    "    for row in csvreader:\n",
    "        months_total += 1\n",
    "        net_total += int(row[1])\n",
    "        profits_losses.append(row[1])\n",
    "        change_values = [int(profits_losses[i + 1]) - int(profits_losses[i]) for i in range(len(profits_losses)-1)]    \n",
    "        change_total = sum(change_values)\n",
    "        months.append(row[0])\n",
    "        months_indexed = months[:0] + months[0+1:]\n",
    "        change_tracking = {change_values[i]: months_indexed[i]  for i in range(len(months_indexed))}\n",
    "\n",
    "        \n",
    "average_change = change_total/len(change_values)        \n",
    "        \n",
    "print(\"Financial Analysis\") \n",
    "print(\"------------------------------\")\n",
    "print(f\"Total Months: {months_total}\")  \n",
    "print(f\"Total: ${net_total}\")\n",
    "print(f\"Average Change: ${round(average_change,2)}\")\n",
    "print(f\"Greated Increase in Profits: {(change_tracking[max(change_tracking)])} ${max(change_values)}\")\n",
    "print(f\"Greatest Decrease in Profits: {(change_tracking[min(change_tracking)])} ${min(change_values)}\")\n",
    "\n",
    "\n"
   ]
  },
  {
   "cell_type": "code",
   "execution_count": null,
   "metadata": {},
   "outputs": [],
   "source": []
  }
 ],
 "metadata": {
  "kernelspec": {
   "display_name": "Python 3",
   "language": "python",
   "name": "python3"
  },
  "language_info": {
   "codemirror_mode": {
    "name": "ipython",
    "version": 3
   },
   "file_extension": ".py",
   "mimetype": "text/x-python",
   "name": "python",
   "nbconvert_exporter": "python",
   "pygments_lexer": "ipython3",
   "version": "3.6.4"
  }
 },
 "nbformat": 4,
 "nbformat_minor": 2
}
